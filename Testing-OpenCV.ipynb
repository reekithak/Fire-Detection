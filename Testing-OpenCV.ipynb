{
 "cells": [
  {
   "cell_type": "code",
   "execution_count": 3,
   "metadata": {
    "ExecuteTime": {
     "end_time": "2021-04-11T07:33:33.673543Z",
     "start_time": "2021-04-11T07:33:33.667543Z"
    }
   },
   "outputs": [],
   "source": [
    "import cv2\n",
    "import numpy as np\n",
    "from PIL import Image, ImageOps\n",
    "import tensorflow as tf\n",
    "from keras.preprocessing import image"
   ]
  },
  {
   "cell_type": "code",
   "execution_count": 4,
   "metadata": {
    "ExecuteTime": {
     "end_time": "2021-04-11T07:33:41.382729Z",
     "start_time": "2021-04-11T07:33:34.481578Z"
    }
   },
   "outputs": [
    {
     "name": "stdout",
     "output_type": "stream",
     "text": [
      "WARNING:tensorflow:No training configuration found in the save file, so the model was *not* compiled. Compile it manually.\n"
     ]
    }
   ],
   "source": [
    "model = tf.keras.models.load_model('Model/model.h5')"
   ]
  },
  {
   "cell_type": "code",
   "execution_count": null,
   "metadata": {
    "ExecuteTime": {
     "end_time": "2021-04-11T07:34:39.126463Z",
     "start_time": "2021-04-11T07:33:44.418204Z"
    }
   },
   "outputs": [],
   "source": [
    "# video = cv2.VideoCapture(0)\n",
    "data = np.ndarray(shape=(1, 224, 224, 3), dtype=np.float32)\n",
    "while True:\n",
    "        _, frame = video.read()\n",
    "\n",
    "        image = Image.fromarray(frame, 'RGB') #capture\n",
    "        \n",
    "        image = ImageOps.fit(image, (224,224), Image.ANTIALIAS) #Resize\n",
    "        \n",
    "        image_array = np.asarray(image) #converting to array\n",
    "        \n",
    "        \n",
    "        image = (image_array.astype(np.float32) / 127.0) - 1  #normalizing\n",
    "        \n",
    "        data[0] = image\n",
    "        #Calling the predict method on model to predict 'fire' on the image\n",
    "        probabilities = model.predict(data)\n",
    "        \n",
    "        \n",
    "        prediction = np.argmax(probabilities[0])\n",
    "        \n",
    "        #if prediction is 0, which means there is fire in the frame.\n",
    "        if (prediction == 1 or prediction == 2):\n",
    "                frame = cv2.cvtColor(frame, cv2.COLOR_RGB2GRAY)\n",
    "                print(probabilities[0][prediction])\n",
    "        cv2.imshow(\"Capturing\", frame)\n",
    "        key=cv2.waitKey(1)\n",
    "        if key == ord('q'):\n",
    "                break\n",
    "video.release()\n",
    "cv2.destroyAllWindows()\n"
   ]
  },
  {
   "cell_type": "code",
   "execution_count": null,
   "metadata": {},
   "outputs": [],
   "source": []
  }
 ],
 "metadata": {
  "kernelspec": {
   "display_name": "Python 3",
   "language": "python",
   "name": "python3"
  },
  "language_info": {
   "codemirror_mode": {
    "name": "ipython",
    "version": 3
   },
   "file_extension": ".py",
   "mimetype": "text/x-python",
   "name": "python",
   "nbconvert_exporter": "python",
   "pygments_lexer": "ipython3",
   "version": "3.7.8"
  }
 },
 "nbformat": 4,
 "nbformat_minor": 4
}
